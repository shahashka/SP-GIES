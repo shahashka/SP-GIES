{
 "cells": [
  {
   "cell_type": "code",
   "execution_count": 16,
   "metadata": {},
   "outputs": [
    {
     "name": "stdout",
     "output_type": "stream",
     "text": [
      "/Users/shah38/Desktop/SP-GIES/examples/../setup.py:9: SetuptoolsDeprecationWarning: As setuptools moves its configuration towards `pyproject.toml`,\r\n",
      "`setuptools.config.read_configuration` became deprecated.\r\n",
      "\r\n",
      "For the time being, you can use the `setuptools.config.setupcfg` module\r\n",
      "to access a backward compatible API, but this module is provisional\r\n",
      "and might be removed in the future.\r\n",
      "\r\n",
      "  conf_dict = read_configuration(setup_cfg)\r\n",
      "error: Multiple top-level modules discovered in a flat-layout: ['convert_dream4', 'run_igsp', 'compare_algs', 'create_random_data'].\r\n",
      "\r\n",
      "To avoid accidental inclusion of unwanted files or directories,\r\n",
      "setuptools will not proceed with this build.\r\n",
      "\r\n",
      "If you are trying to create a single distribution with multiple modules\r\n",
      "on purpose, you should not rely on automatic discovery.\r\n",
      "Instead, consider the following options:\r\n",
      "\r\n",
      "1. set up custom discovery (`find` directive with `include` or `exclude`)\r\n",
      "2. use a `src-layout`\r\n",
      "3. explicitly set `py_modules` or `packages` with a list of names\r\n",
      "\r\n",
      "To find more information, look for \"package discovery\" on setuptools docs.\r\n"
     ]
    }
   ],
   "source": []
  },
  {
   "cell_type": "code",
   "execution_count": null,
   "metadata": {},
   "outputs": [],
   "source": []
  }
 ],
 "metadata": {
  "kernelspec": {
   "display_name": "sp_gies",
   "language": "python",
   "name": "sp_gies"
  },
  "language_info": {
   "codemirror_mode": {
    "name": "ipython",
    "version": 3
   },
   "file_extension": ".py",
   "mimetype": "text/x-python",
   "name": "python",
   "nbconvert_exporter": "python",
   "pygments_lexer": "ipython3",
   "version": "3.9.16"
  }
 },
 "nbformat": 4,
 "nbformat_minor": 2
}
