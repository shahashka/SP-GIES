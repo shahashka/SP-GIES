{
 "cells": [
  {
   "cell_type": "code",
   "execution_count": 1,
   "metadata": {},
   "outputs": [
    {
     "name": "stdout",
     "output_type": "stream",
     "text": [
      "Collecting git+https://github.com/shahashka/SP-GIES\r\n",
      "  Cloning https://github.com/shahashka/SP-GIES to /private/var/folders/hr/9_dgjtbx6ll7bkdgtm_4dkl00000gn/T/pip-req-build-c2l433ax\r\n",
      "  Running command git clone --filter=blob:none --quiet https://github.com/shahashka/SP-GIES /private/var/folders/hr/9_dgjtbx6ll7bkdgtm_4dkl00000gn/T/pip-req-build-c2l433ax\r\n",
      "  Resolved https://github.com/shahashka/SP-GIES to commit d6e9183cfba5d4986f68be811fd26e4ed8ae4df7\r\n",
      "  Running command git submodule update --init --recursive -q\r\n",
      "  Preparing metadata (setup.py) ... \u001B[?25l-\b \bdone\r\n",
      "\u001B[?25h"
     ]
    }
   ],
   "source": [
    "!pip install git+https://github.com/shahashka/SP-GIES"
   ]
  },
  {
   "cell_type": "code",
   "execution_count": 2,
   "metadata": {},
   "outputs": [
    {
     "name": "stderr",
     "output_type": "stream",
     "text": [
      "No GPU automatically detected. Setting SETTINGS.GPU to 0, and SETTINGS.NJOBS to cpu_count.\n",
      "IProgress not found. Please update jupyter and ipywidgets. See https://ipywidgets.readthedocs.io/en/stable/user_install.html\n"
     ]
    }
   ],
   "source": [
    "from sp_gies import utils\n",
    "from sp_gies import sp_gies as sp"
   ]
  },
  {
   "cell_type": "code",
   "execution_count": 3,
   "metadata": {},
   "outputs": [],
   "source": [
    "# Generate a random graph and random data.\n",
    "# Data is sampled from a linear Gaussian model (child nodes are weighted sums of parent nodes)\n",
    "# Arcs is a list of edge pairs e.g. [(\"G1\",\"G2\"), (\"G2\",\"G4\")]\n",
    "(arcs,nodes,bias,var), data = utils.get_random_graph_data(\"scale_free\", n=10, nsamples=10000, iv_samples=10, p=0.5, k=2)"
   ]
  },
  {
   "cell_type": "code",
   "execution_count": 4,
   "metadata": {},
   "outputs": [
    {
     "name": "stdout",
     "output_type": "stream",
     "text": [
      "<bound method NDFrame.head of            G1        G2        G3        G4        G5        G6        G7   \n",
      "0    4.979324  1.880025 -0.972235 -0.035766 -0.171051  3.007217  3.753972  \\\n",
      "1   -1.947711 -1.385155 -1.777715 -0.863032 -1.689290 -0.195150  1.476377   \n",
      "2    3.285784 -0.669466  0.748082 -0.928084  0.495895  2.912336  1.540072   \n",
      "3   16.498070  5.259697  2.345555 -0.349151  3.796432  7.156625  8.851658   \n",
      "4   12.602891  4.641528  1.185216  0.410582  0.554082  3.680665  8.411329   \n",
      "..        ...       ...       ...       ...       ...       ...       ...   \n",
      "5    2.746896  0.814001  1.452603  0.341534 -0.286683  1.093233  0.432757   \n",
      "6    4.078718  0.425707  1.296373 -0.718520  0.959463  2.762145  3.060405   \n",
      "7   -2.903208 -0.137007 -2.210221 -0.810198 -0.815238 -0.079134 -0.191645   \n",
      "8   10.946452  6.191972  1.565690 -0.275620  2.392486  4.202782  7.442484   \n",
      "9    0.096591 -1.977975  0.752584 -0.156714 -0.496039  2.156474 -0.960126   \n",
      "\n",
      "          G8        G9       G10  target  \n",
      "0   0.875106 -0.107241  1.072704     0.0  \n",
      "1   1.728519 -1.713259  1.330675     0.0  \n",
      "2   1.315190 -2.208792  1.119624     0.0  \n",
      "3   1.734153 -0.848744  1.269225     0.0  \n",
      "4   0.903392  1.490486  2.350920     0.0  \n",
      "..       ...       ...       ...     ...  \n",
      "5   0.299044 -0.957769  0.000000    10.0  \n",
      "6   1.006982 -1.361643  0.000000    10.0  \n",
      "7   0.539862 -1.387038  0.000000    10.0  \n",
      "8   0.889841 -0.154121  0.000000    10.0  \n",
      "9   0.774564 -1.091885  0.000000    10.0  \n",
      "\n",
      "[10100 rows x 11 columns]>\n"
     ]
    }
   ],
   "source": [
    "# The dataset should have column names corresponding to the random variables names\n",
    "print(data.head)"
   ]
  },
  {
   "cell_type": "code",
   "execution_count": 9,
   "metadata": {},
   "outputs": [
    {
     "ename": "TypeError",
     "evalue": "sp_gies() got an unexpected keyword argument 'pc'",
     "output_type": "error",
     "traceback": [
      "\u001B[0;31m---------------------------------------------------------------------------\u001B[0m",
      "\u001B[0;31mTypeError\u001B[0m                                 Traceback (most recent call last)",
      "Cell \u001B[0;32mIn[9], line 1\u001B[0m\n\u001B[0;32m----> 1\u001B[0m adj_mat \u001B[38;5;241m=\u001B[39m \u001B[43msp\u001B[49m\u001B[38;5;241;43m.\u001B[39;49m\u001B[43msp_gies\u001B[49m\u001B[43m(\u001B[49m\u001B[43mdata\u001B[49m\u001B[43m,\u001B[49m\u001B[43m \u001B[49m\u001B[43moutdir\u001B[49m\u001B[38;5;241;43m=\u001B[39;49m\u001B[38;5;124;43m\"\u001B[39;49m\u001B[38;5;124;43m./\u001B[39;49m\u001B[38;5;124;43m\"\u001B[39;49m\u001B[43m,\u001B[49m\u001B[43m \u001B[49m\u001B[43mskel\u001B[49m\u001B[38;5;241;43m=\u001B[39;49m\u001B[38;5;28;43;01mNone\u001B[39;49;00m\u001B[43m,\u001B[49m\u001B[43m \u001B[49m\u001B[43mpc\u001B[49m\u001B[38;5;241;43m=\u001B[39;49m\u001B[38;5;28;43;01mTrue\u001B[39;49;00m\u001B[43m)\u001B[49m\n",
      "\u001B[0;31mTypeError\u001B[0m: sp_gies() got an unexpected keyword argument 'pc'"
     ]
    }
   ],
   "source": [
    "# Run the SP-GIES algorithm on the dataset.\n",
    "# Adjacency matrix is saved in the output dir\n",
    "# Optionally provide a skeleton, which should be a numpy array with number rows/columns corresponding to the number of nodes\n",
    "# For a 10 node graph this should take less than 1 second\n",
    "adj_mat = sp.sp_gies(data, outdir=\"./\", skel=None, pc=True)"
   ]
  },
  {
   "cell_type": "code",
   "execution_count": 10,
   "metadata": {},
   "outputs": [
    {
     "ename": "NameError",
     "evalue": "name 'adj_mat' is not defined",
     "output_type": "error",
     "traceback": [
      "\u001B[0;31m---------------------------------------------------------------------------\u001B[0m",
      "\u001B[0;31mNameError\u001B[0m                                 Traceback (most recent call last)",
      "Cell \u001B[0;32mIn[10], line 2\u001B[0m\n\u001B[1;32m      1\u001B[0m G_true \u001B[38;5;241m=\u001B[39m utils\u001B[38;5;241m.\u001B[39medge_to_dag(arcs)\n\u001B[0;32m----> 2\u001B[0m G_sp_gies \u001B[38;5;241m=\u001B[39m utils\u001B[38;5;241m.\u001B[39madj_to_dag(\u001B[43madj_mat\u001B[49m, nodes)\n\u001B[1;32m      3\u001B[0m \u001B[38;5;28mprint\u001B[39m(utils\u001B[38;5;241m.\u001B[39mget_scores([\u001B[38;5;124m\"\u001B[39m\u001B[38;5;124mSP-GIES\u001B[39m\u001B[38;5;124m\"\u001B[39m], [G_sp_gies], G_true, get_sid\u001B[38;5;241m=\u001B[39m\u001B[38;5;28;01mTrue\u001B[39;00m))\n",
      "\u001B[0;31mNameError\u001B[0m: name 'adj_mat' is not defined"
     ]
    }
   ],
   "source": [
    "# Check the accuracy of the estimated graph\n",
    "# Prints the SHD, SID, and AUC of the estimated graph against the true generated graph\n",
    "G_true = utils.edge_to_dag(arcs)\n",
    "G_sp_gies = utils.adj_to_dag(adj_mat, nodes)\n",
    "print(utils.get_scores([\"SP-GIES\"], [G_sp_gies], G_true, get_sid=True))"
   ]
  },
  {
   "cell_type": "code",
   "execution_count": null,
   "metadata": {},
   "outputs": [],
   "source": []
  }
 ],
 "metadata": {
  "kernelspec": {
   "display_name": "sp_gies",
   "language": "python",
   "name": "sp_gies"
  },
  "language_info": {
   "codemirror_mode": {
    "name": "ipython",
    "version": 3
   },
   "file_extension": ".py",
   "mimetype": "text/x-python",
   "name": "python",
   "nbconvert_exporter": "python",
   "pygments_lexer": "ipython3",
   "version": "3.9.16"
  }
 },
 "nbformat": 4,
 "nbformat_minor": 2
}