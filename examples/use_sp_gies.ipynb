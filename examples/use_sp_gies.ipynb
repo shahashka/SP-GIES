{
 "cells": [
  {
   "cell_type": "code",
   "execution_count": 1,
   "metadata": {},
   "outputs": [
    {
     "name": "stdout",
     "output_type": "stream",
     "text": [
      "Collecting git+https://github.com/shahashka/SP-GIES\n",
      "  Cloning https://github.com/shahashka/SP-GIES to /private/var/folders/hr/9_dgjtbx6ll7bkdgtm_4dkl00000gn/T/pip-req-build-pky_jofe\n",
      "  Running command git clone --filter=blob:none --quiet https://github.com/shahashka/SP-GIES /private/var/folders/hr/9_dgjtbx6ll7bkdgtm_4dkl00000gn/T/pip-req-build-pky_jofe\n",
      "  Resolved https://github.com/shahashka/SP-GIES to commit c2f3fc0ca5151e1ef7ea9b82bd64f79b342b6603\n",
      "  Running command git submodule update --init --recursive -q\n",
      "  Preparing metadata (setup.py) ... \u001B[?25ldone\n",
      "\u001B[?25hRequirement already satisfied: causaldag in /Applications/anaconda3/envs/test_env/lib/python3.8/site-packages (from sp-gies==1.0) (0.1a163)\n",
      "Requirement already satisfied: cdt==0.6.0 in /Applications/anaconda3/envs/test_env/lib/python3.8/site-packages (from sp-gies==1.0) (0.6.0)\n",
      "Requirement already satisfied: graphical_models in /Applications/anaconda3/envs/test_env/lib/python3.8/site-packages (from sp-gies==1.0) (0.1a19)\n",
      "Requirement already satisfied: conditional_independence in /Applications/anaconda3/envs/test_env/lib/python3.8/site-packages (from sp-gies==1.0) (0.1a6)\n",
      "Requirement already satisfied: matplotlib==3.5.* in /Applications/anaconda3/envs/test_env/lib/python3.8/site-packages (from sp-gies==1.0) (3.5.3)\n",
      "Requirement already satisfied: networkx==2.8.* in /Applications/anaconda3/envs/test_env/lib/python3.8/site-packages (from sp-gies==1.0) (2.8.8)\n",
      "Requirement already satisfied: numpy in /Applications/anaconda3/envs/test_env/lib/python3.8/site-packages (from sp-gies==1.0) (1.24.3)\n",
      "Collecting argparse\n",
      "  Using cached argparse-1.4.0-py2.py3-none-any.whl (23 kB)\n",
      "Requirement already satisfied: pandas==1.* in /Applications/anaconda3/envs/test_env/lib/python3.8/site-packages (from sp-gies==1.0) (1.5.3)\n",
      "Requirement already satisfied: scikit-learn==1.* in /Applications/anaconda3/envs/test_env/lib/python3.8/site-packages (from sp-gies==1.0) (1.2.2)\n",
      "Requirement already satisfied: scipy==1.9.* in /Applications/anaconda3/envs/test_env/lib/python3.8/site-packages (from sp-gies==1.0) (1.9.3)\n",
      "Requirement already satisfied: rpy2==3.5.* in /Applications/anaconda3/envs/test_env/lib/python3.8/site-packages (from sp-gies==1.0) (3.5.11)\n",
      "Requirement already satisfied: skrebate in /Applications/anaconda3/envs/test_env/lib/python3.8/site-packages (from cdt==0.6.0->sp-gies==1.0) (0.62)\n",
      "Requirement already satisfied: GPUtil in /Applications/anaconda3/envs/test_env/lib/python3.8/site-packages (from cdt==0.6.0->sp-gies==1.0) (1.4.0)\n",
      "Requirement already satisfied: statsmodels in /Applications/anaconda3/envs/test_env/lib/python3.8/site-packages (from cdt==0.6.0->sp-gies==1.0) (0.13.5)\n",
      "Requirement already satisfied: joblib in /Applications/anaconda3/envs/test_env/lib/python3.8/site-packages (from cdt==0.6.0->sp-gies==1.0) (1.2.0)\n",
      "Requirement already satisfied: tqdm in /Applications/anaconda3/envs/test_env/lib/python3.8/site-packages (from cdt==0.6.0->sp-gies==1.0) (4.65.0)\n",
      "Requirement already satisfied: requests in /Applications/anaconda3/envs/test_env/lib/python3.8/site-packages (from cdt==0.6.0->sp-gies==1.0) (2.28.2)\n",
      "Requirement already satisfied: pyparsing>=2.2.1 in /Applications/anaconda3/envs/test_env/lib/python3.8/site-packages (from matplotlib==3.5.*->sp-gies==1.0) (3.0.9)\n",
      "Requirement already satisfied: fonttools>=4.22.0 in /Applications/anaconda3/envs/test_env/lib/python3.8/site-packages (from matplotlib==3.5.*->sp-gies==1.0) (4.39.3)\n",
      "Requirement already satisfied: kiwisolver>=1.0.1 in /Applications/anaconda3/envs/test_env/lib/python3.8/site-packages (from matplotlib==3.5.*->sp-gies==1.0) (1.4.4)\n",
      "Requirement already satisfied: python-dateutil>=2.7 in /Applications/anaconda3/envs/test_env/lib/python3.8/site-packages (from matplotlib==3.5.*->sp-gies==1.0) (2.8.2)\n",
      "Requirement already satisfied: cycler>=0.10 in /Applications/anaconda3/envs/test_env/lib/python3.8/site-packages (from matplotlib==3.5.*->sp-gies==1.0) (0.11.0)\n",
      "Requirement already satisfied: packaging>=20.0 in /Applications/anaconda3/envs/test_env/lib/python3.8/site-packages (from matplotlib==3.5.*->sp-gies==1.0) (23.1)\n",
      "Requirement already satisfied: pillow>=6.2.0 in /Applications/anaconda3/envs/test_env/lib/python3.8/site-packages (from matplotlib==3.5.*->sp-gies==1.0) (9.5.0)\n",
      "Requirement already satisfied: pytz>=2020.1 in /Applications/anaconda3/envs/test_env/lib/python3.8/site-packages (from pandas==1.*->sp-gies==1.0) (2023.3)\n",
      "Requirement already satisfied: tzlocal in /Applications/anaconda3/envs/test_env/lib/python3.8/site-packages (from rpy2==3.5.*->sp-gies==1.0) (4.3)\n",
      "Requirement already satisfied: jinja2 in /Applications/anaconda3/envs/test_env/lib/python3.8/site-packages (from rpy2==3.5.*->sp-gies==1.0) (3.1.2)\n",
      "Requirement already satisfied: cffi>=1.10.0 in /Applications/anaconda3/envs/test_env/lib/python3.8/site-packages (from rpy2==3.5.*->sp-gies==1.0) (1.15.1)\n",
      "Requirement already satisfied: threadpoolctl>=2.0.0 in /Applications/anaconda3/envs/test_env/lib/python3.8/site-packages (from scikit-learn==1.*->sp-gies==1.0) (3.1.0)\n",
      "Requirement already satisfied: frozendict in /Applications/anaconda3/envs/test_env/lib/python3.8/site-packages (from causaldag->sp-gies==1.0) (2.3.7)\n",
      "Requirement already satisfied: dataclasses in /Applications/anaconda3/envs/test_env/lib/python3.8/site-packages (from causaldag->sp-gies==1.0) (0.6)\n",
      "Requirement already satisfied: numexpr in /Applications/anaconda3/envs/test_env/lib/python3.8/site-packages (from causaldag->sp-gies==1.0) (2.8.4)\n",
      "Requirement already satisfied: ipdb in /Applications/anaconda3/envs/test_env/lib/python3.8/site-packages (from causaldag->sp-gies==1.0) (0.13.13)\n",
      "Requirement already satisfied: pygam in /Applications/anaconda3/envs/test_env/lib/python3.8/site-packages (from causaldag->sp-gies==1.0) (0.8.0)\n",
      "Requirement already satisfied: graphical-model-learning in /Applications/anaconda3/envs/test_env/lib/python3.8/site-packages (from causaldag->sp-gies==1.0) (0.1a8)\n",
      "Requirement already satisfied: typing in /Applications/anaconda3/envs/test_env/lib/python3.8/site-packages (from causaldag->sp-gies==1.0) (3.7.4.3)\n",
      "Requirement already satisfied: pgmpy in /Applications/anaconda3/envs/test_env/lib/python3.8/site-packages (from graphical_models->sp-gies==1.0) (0.1.22)\n",
      "Requirement already satisfied: einops in /Applications/anaconda3/envs/test_env/lib/python3.8/site-packages (from graphical_models->sp-gies==1.0) (0.6.1)\n",
      "Requirement already satisfied: xgboost in /Applications/anaconda3/envs/test_env/lib/python3.8/site-packages (from graphical_models->sp-gies==1.0) (1.7.5)\n",
      "Requirement already satisfied: pycparser in /Applications/anaconda3/envs/test_env/lib/python3.8/site-packages (from cffi>=1.10.0->rpy2==3.5.*->sp-gies==1.0) (2.21)\n",
      "Requirement already satisfied: six>=1.5 in /Applications/anaconda3/envs/test_env/lib/python3.8/site-packages (from python-dateutil>=2.7->matplotlib==3.5.*->sp-gies==1.0) (1.16.0)\n",
      "Requirement already satisfied: decorator in /Applications/anaconda3/envs/test_env/lib/python3.8/site-packages (from ipdb->causaldag->sp-gies==1.0) (5.1.1)\n",
      "Requirement already satisfied: tomli in /Applications/anaconda3/envs/test_env/lib/python3.8/site-packages (from ipdb->causaldag->sp-gies==1.0) (2.0.1)\n",
      "Requirement already satisfied: ipython>=7.31.1 in /Applications/anaconda3/envs/test_env/lib/python3.8/site-packages (from ipdb->causaldag->sp-gies==1.0) (8.12.0)\n",
      "Requirement already satisfied: MarkupSafe>=2.0 in /Applications/anaconda3/envs/test_env/lib/python3.8/site-packages (from jinja2->rpy2==3.5.*->sp-gies==1.0) (2.1.2)\n",
      "Requirement already satisfied: opt-einsum in /Applications/anaconda3/envs/test_env/lib/python3.8/site-packages (from pgmpy->graphical_models->sp-gies==1.0) (3.3.0)\n",
      "Requirement already satisfied: torch in /Applications/anaconda3/envs/test_env/lib/python3.8/site-packages (from pgmpy->graphical_models->sp-gies==1.0) (2.0.0)\n",
      "Requirement already satisfied: future in /Applications/anaconda3/envs/test_env/lib/python3.8/site-packages (from pygam->causaldag->sp-gies==1.0) (0.18.3)\n",
      "Requirement already satisfied: progressbar2 in /Applications/anaconda3/envs/test_env/lib/python3.8/site-packages (from pygam->causaldag->sp-gies==1.0) (4.2.0)\n",
      "Requirement already satisfied: urllib3<1.27,>=1.21.1 in /Applications/anaconda3/envs/test_env/lib/python3.8/site-packages (from requests->cdt==0.6.0->sp-gies==1.0) (1.26.15)\n",
      "Requirement already satisfied: charset-normalizer<4,>=2 in /Applications/anaconda3/envs/test_env/lib/python3.8/site-packages (from requests->cdt==0.6.0->sp-gies==1.0) (3.1.0)\n",
      "Requirement already satisfied: idna<4,>=2.5 in /Applications/anaconda3/envs/test_env/lib/python3.8/site-packages (from requests->cdt==0.6.0->sp-gies==1.0) (3.4)\n",
      "Requirement already satisfied: certifi>=2017.4.17 in /Applications/anaconda3/envs/test_env/lib/python3.8/site-packages (from requests->cdt==0.6.0->sp-gies==1.0) (2022.12.7)\n"
     ]
    },
    {
     "name": "stdout",
     "output_type": "stream",
     "text": [
      "Requirement already satisfied: patsy>=0.5.2 in /Applications/anaconda3/envs/test_env/lib/python3.8/site-packages (from statsmodels->cdt==0.6.0->sp-gies==1.0) (0.5.3)\n",
      "Requirement already satisfied: backports.zoneinfo in /Applications/anaconda3/envs/test_env/lib/python3.8/site-packages (from tzlocal->rpy2==3.5.*->sp-gies==1.0) (0.2.1)\n",
      "Requirement already satisfied: pytz-deprecation-shim in /Applications/anaconda3/envs/test_env/lib/python3.8/site-packages (from tzlocal->rpy2==3.5.*->sp-gies==1.0) (0.1.0.post0)\n",
      "Requirement already satisfied: typing-extensions in /Applications/anaconda3/envs/test_env/lib/python3.8/site-packages (from ipython>=7.31.1->ipdb->causaldag->sp-gies==1.0) (4.5.0)\n",
      "Requirement already satisfied: jedi>=0.16 in /Applications/anaconda3/envs/test_env/lib/python3.8/site-packages (from ipython>=7.31.1->ipdb->causaldag->sp-gies==1.0) (0.18.2)\n",
      "Requirement already satisfied: backcall in /Applications/anaconda3/envs/test_env/lib/python3.8/site-packages (from ipython>=7.31.1->ipdb->causaldag->sp-gies==1.0) (0.2.0)\n",
      "Requirement already satisfied: matplotlib-inline in /Applications/anaconda3/envs/test_env/lib/python3.8/site-packages (from ipython>=7.31.1->ipdb->causaldag->sp-gies==1.0) (0.1.6)\n",
      "Requirement already satisfied: prompt-toolkit!=3.0.37,<3.1.0,>=3.0.30 in /Applications/anaconda3/envs/test_env/lib/python3.8/site-packages (from ipython>=7.31.1->ipdb->causaldag->sp-gies==1.0) (3.0.38)\n",
      "Requirement already satisfied: traitlets>=5 in /Applications/anaconda3/envs/test_env/lib/python3.8/site-packages (from ipython>=7.31.1->ipdb->causaldag->sp-gies==1.0) (5.9.0)\n",
      "Requirement already satisfied: appnope in /Applications/anaconda3/envs/test_env/lib/python3.8/site-packages (from ipython>=7.31.1->ipdb->causaldag->sp-gies==1.0) (0.1.3)\n",
      "Requirement already satisfied: stack-data in /Applications/anaconda3/envs/test_env/lib/python3.8/site-packages (from ipython>=7.31.1->ipdb->causaldag->sp-gies==1.0) (0.6.2)\n",
      "Requirement already satisfied: pexpect>4.3 in /Applications/anaconda3/envs/test_env/lib/python3.8/site-packages (from ipython>=7.31.1->ipdb->causaldag->sp-gies==1.0) (4.8.0)\n",
      "Requirement already satisfied: pygments>=2.4.0 in /Applications/anaconda3/envs/test_env/lib/python3.8/site-packages (from ipython>=7.31.1->ipdb->causaldag->sp-gies==1.0) (2.15.1)\n",
      "Requirement already satisfied: pickleshare in /Applications/anaconda3/envs/test_env/lib/python3.8/site-packages (from ipython>=7.31.1->ipdb->causaldag->sp-gies==1.0) (0.7.5)\n",
      "Requirement already satisfied: python-utils>=3.0.0 in /Applications/anaconda3/envs/test_env/lib/python3.8/site-packages (from progressbar2->pygam->causaldag->sp-gies==1.0) (3.5.2)\n",
      "Requirement already satisfied: tzdata in /Applications/anaconda3/envs/test_env/lib/python3.8/site-packages (from pytz-deprecation-shim->tzlocal->rpy2==3.5.*->sp-gies==1.0) (2023.3)\n",
      "Requirement already satisfied: sympy in /Applications/anaconda3/envs/test_env/lib/python3.8/site-packages (from torch->pgmpy->graphical_models->sp-gies==1.0) (1.11.1)\n",
      "Requirement already satisfied: filelock in /Applications/anaconda3/envs/test_env/lib/python3.8/site-packages (from torch->pgmpy->graphical_models->sp-gies==1.0) (3.12.0)\n",
      "Requirement already satisfied: parso<0.9.0,>=0.8.0 in /Applications/anaconda3/envs/test_env/lib/python3.8/site-packages (from jedi>=0.16->ipython>=7.31.1->ipdb->causaldag->sp-gies==1.0) (0.8.3)\n",
      "Requirement already satisfied: ptyprocess>=0.5 in /Applications/anaconda3/envs/test_env/lib/python3.8/site-packages (from pexpect>4.3->ipython>=7.31.1->ipdb->causaldag->sp-gies==1.0) (0.7.0)\n",
      "Requirement already satisfied: wcwidth in /Applications/anaconda3/envs/test_env/lib/python3.8/site-packages (from prompt-toolkit!=3.0.37,<3.1.0,>=3.0.30->ipython>=7.31.1->ipdb->causaldag->sp-gies==1.0) (0.2.6)\n",
      "Requirement already satisfied: executing>=1.2.0 in /Applications/anaconda3/envs/test_env/lib/python3.8/site-packages (from stack-data->ipython>=7.31.1->ipdb->causaldag->sp-gies==1.0) (1.2.0)\n",
      "Requirement already satisfied: asttokens>=2.1.0 in /Applications/anaconda3/envs/test_env/lib/python3.8/site-packages (from stack-data->ipython>=7.31.1->ipdb->causaldag->sp-gies==1.0) (2.2.1)\n",
      "Requirement already satisfied: pure-eval in /Applications/anaconda3/envs/test_env/lib/python3.8/site-packages (from stack-data->ipython>=7.31.1->ipdb->causaldag->sp-gies==1.0) (0.2.2)\n",
      "Requirement already satisfied: mpmath>=0.19 in /Applications/anaconda3/envs/test_env/lib/python3.8/site-packages (from sympy->torch->pgmpy->graphical_models->sp-gies==1.0) (1.3.0)\n",
      "Installing collected packages: argparse\n",
      "Successfully installed argparse-1.4.0\n"
     ]
    }
   ],
   "source": [
    "!pip install git+https://github.com/shahashka/SP-GIES "
   ]
  },
  {
   "cell_type": "code",
   "execution_count": 2,
   "metadata": {},
   "outputs": [
    {
     "name": "stderr",
     "output_type": "stream",
     "text": [
      "No GPU automatically detected. Setting SETTINGS.GPU to 0, and SETTINGS.NJOBS to cpu_count.\n",
      "IProgress not found. Please update jupyter and ipywidgets. See https://ipywidgets.readthedocs.io/en/stable/user_install.html\n"
     ]
    },
    {
     "data": {
      "text/plain": [
       "'1.0'"
      ]
     },
     "execution_count": 2,
     "metadata": {},
     "output_type": "execute_result"
    }
   ],
   "source": [
    "from sp_gies import utils\n",
    "from sp_gies import sp_gies as sp\n",
    "import sp_gies\n",
    "sp_gies.__version__"
   ]
  },
  {
   "cell_type": "markdown",
   "metadata": {},
   "source": [
    "## Generate a random graph and random data.\n",
    "Data is sampled from a linear Gaussian model (child nodes are weighted sums of parent nodes). Options for random graphs are scale_free, erdos_renyi, and small_world. Choose the number of nodes in the graphs (n), number of observational samples (nsamples) and number of interventional samples per node (iv_samples). p, k are parameters for the random graphs.\n",
    "\n",
    "Arcs is a list of edge pairs e.g. [(\"G1\",\"G2\"), (\"G2\",\"G4\")]"
   ]
  },
  {
   "cell_type": "code",
   "execution_count": 3,
   "metadata": {
    "collapsed": true
   },
   "outputs": [],
   "source": [
    "(arcs,nodes,bias,var), data = utils.get_random_graph_data(\"scale_free\", n=10, nsamples=10000, iv_samples=10, p=0.5, k=2)"
   ]
  },
  {
   "cell_type": "markdown",
   "metadata": {},
   "source": [
    "The dataset should have column names corresponding to the random variables names. Additionally a 'target' column specifies which intervention index was performed to obtain the sample. The target column indexes from 1 (for compatability with R). For example in the dataframe below, target=1 indicates that 'G1' was intervened to obtain the corresponding interventional sample. For observational samples the target value should be 0. \n"
   ]
  },
  {
   "cell_type": "code",
   "execution_count": 4,
   "metadata": {},
   "outputs": [
    {
     "name": "stdout",
     "output_type": "stream",
     "text": [
      "<bound method NDFrame.head of            G1        G2        G3        G4        G5        G6        G7  \\\n",
      "0    7.463500  1.661807  1.150648  3.017491  1.601714 -0.488938  0.331825   \n",
      "1    0.201073  0.047384  1.295767  1.631285 -1.383862 -0.740284 -1.813678   \n",
      "2   14.426114  3.339053  0.726225  3.868996  8.498602  0.286319  1.807987   \n",
      "3    7.638654  1.907038 -0.316147  3.806496  5.945730  0.891800  2.048113   \n",
      "4   12.030557  1.949552  0.919539  4.352302  7.782638  0.730665  2.540060   \n",
      "..        ...       ...       ...       ...       ...       ...       ...   \n",
      "5    7.002592  1.787334  0.971919  3.337484  4.201892 -0.914213  1.251815   \n",
      "6    1.029250  1.407253  0.454169  2.343053  6.002986 -0.918451  2.299300   \n",
      "7   -5.482092 -0.388794  0.711828 -1.116055 -1.230666 -0.768775 -1.504115   \n",
      "8   10.097164  2.679455  0.452144  4.403974  9.642562  0.106754  5.598606   \n",
      "9    5.254433  1.775286  1.092521  3.123651  3.845733 -0.171352  1.673384   \n",
      "\n",
      "          G8         G9       G10  target  \n",
      "0   0.364205   4.673242 -0.152150     0.0  \n",
      "1  -1.645875   0.907736 -0.794062     0.0  \n",
      "2   1.367413  10.541504  3.540206     0.0  \n",
      "3  -0.244733   7.546011  2.324627     0.0  \n",
      "4  -0.597670   5.541108  4.152639     0.0  \n",
      "..       ...        ...       ...     ...  \n",
      "5  -0.077174   5.494763  0.000000    10.0  \n",
      "6  -0.997056   4.165197  0.000000    10.0  \n",
      "7  -3.206645   0.146213  0.000000    10.0  \n",
      "8   0.304093   7.818066  0.000000    10.0  \n",
      "9  -0.807237   3.393068  0.000000    10.0  \n",
      "\n",
      "[10100 rows x 11 columns]>\n"
     ]
    }
   ],
   "source": [
    "print(data.head)"
   ]
  },
  {
   "cell_type": "markdown",
   "metadata": {},
   "source": [
    "# Run the SP-GIES algorithm on the dataset.\n",
    "Runs the PC algorithm if pc=True and then the GIES algorithm on the output CPDAG.\n",
    "Optionally provide an input skeleton, which should be a numpy array with number rows/columns corresponding to the number of nodes. The output adjacency matrix is saved in the output dir as sp_gies-adj_mat.csv.\n",
    "\n",
    "For a 10 node graph this should take less than 1 second"
   ]
  },
  {
   "cell_type": "code",
   "execution_count": 5,
   "metadata": {},
   "outputs": [],
   "source": [
    "adj_mat = sp.sp_gies(data, outdir=\"./\", skel=None, pc=True)"
   ]
  },
  {
   "cell_type": "markdown",
   "metadata": {},
   "source": [
    "# Evaluate the estimated graph.\n",
    "Convert to networkx Digraph and run evaluation metrics. \n",
    "\n",
    "SHD is the L1 error between the graphs.\n",
    "\n",
    "SID is the number of wrong interventional distributions. This method scales quadratically with the number of nodes. For large graphs it can take a while, so there is an option to turn off this evaluation with get_sid=False.\n",
    "\n",
    "AUC is the error under the precision recall curve"
   ]
  },
  {
   "cell_type": "code",
   "execution_count": 6,
   "metadata": {},
   "outputs": [
    {
     "name": "stderr",
     "output_type": "stream",
     "text": [
      "adjacency_matrix will return a scipy.sparse array instead of a matrix in Networkx 3.0.\n",
      "adjacency_matrix will return a scipy.sparse array instead of a matrix in Networkx 3.0.\n"
     ]
    },
    {
     "name": "stdout",
     "output_type": "stream",
     "text": [
      "SP-GIES SHD: 12.0 SID: 35.0 AUC: 0.6849999999999999\n",
      "None\n"
     ]
    },
    {
     "name": "stderr",
     "output_type": "stream",
     "text": [
      "adjacency_matrix will return a scipy.sparse array instead of a matrix in Networkx 3.0.\n",
      "adjacency_matrix will return a scipy.sparse array instead of a matrix in Networkx 3.0.\n"
     ]
    }
   ],
   "source": [
    "G_true = utils.edge_to_dag(arcs)\n",
    "G_sp_gies = utils.adj_to_dag(adj_mat, nodes)\n",
    "print(utils.get_scores([\"SP-GIES\"], [G_sp_gies], G_true, get_sid=True))"
   ]
  },
  {
   "cell_type": "code",
   "execution_count": null,
   "metadata": {
    "collapsed": true
   },
   "outputs": [],
   "source": []
  }
 ],
 "metadata": {
  "kernelspec": {
   "display_name": "test_env",
   "language": "python",
   "name": "test_env"
  },
  "language_info": {
   "codemirror_mode": {
    "name": "ipython",
    "version": 3
   },
   "file_extension": ".py",
   "mimetype": "text/x-python",
   "name": "python",
   "nbconvert_exporter": "python",
   "pygments_lexer": "ipython3",
   "version": "3.8.16"
  }
 },
 "nbformat": 4,
 "nbformat_minor": 4
}