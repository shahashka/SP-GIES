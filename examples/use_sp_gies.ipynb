{
 "cells": [
  {
   "cell_type": "code",
   "execution_count": 6,
   "metadata": {},
   "outputs": [
    {
     "name": "stdout",
     "output_type": "stream",
     "text": [
      "Collecting git+https://github.com/shahashka/SP-GIES\n",
      "  Cloning https://github.com/shahashka/SP-GIES to /private/var/folders/hr/9_dgjtbx6ll7bkdgtm_4dkl00000gn/T/pip-req-build-m4wt6hal\n",
      "  Running command git clone --filter=blob:none --quiet https://github.com/shahashka/SP-GIES /private/var/folders/hr/9_dgjtbx6ll7bkdgtm_4dkl00000gn/T/pip-req-build-m4wt6hal\n",
      "  Resolved https://github.com/shahashka/SP-GIES to commit f1df54725af423aef3215b52cb441e809d126476\n",
      "  Running command git submodule update --init --recursive -q\n",
      "  Preparing metadata (setup.py) ... \u001B[?25ldone\n",
      "\u001B[?25hBuilding wheels for collected packages: sp-gies\n",
      "  Building wheel for sp-gies (setup.py) ... \u001B[?25lerror\n",
      "  \u001B[1;31merror\u001B[0m: \u001B[1msubprocess-exited-with-error\u001B[0m\n",
      "  \n",
      "  \u001B[31m×\u001B[0m \u001B[32mpython setup.py bdist_wheel\u001B[0m did not run successfully.\n",
      "  \u001B[31m│\u001B[0m exit code: \u001B[1;36m1\u001B[0m\n",
      "  \u001B[31m╰─>\u001B[0m \u001B[31m[14 lines of output]\u001B[0m\n",
      "  \u001B[31m   \u001B[0m /private/var/folders/hr/9_dgjtbx6ll7bkdgtm_4dkl00000gn/T/pip-req-build-m4wt6hal/setup.py:9: SetuptoolsDeprecationWarning: As setuptools moves its configuration towards `pyproject.toml`,\n",
      "  \u001B[31m   \u001B[0m `setuptools.config.read_configuration` became deprecated.\n",
      "  \u001B[31m   \u001B[0m \n",
      "  \u001B[31m   \u001B[0m For the time being, you can use the `setuptools.config.setupcfg` module\n",
      "  \u001B[31m   \u001B[0m to access a backward compatible API, but this module is provisional\n",
      "  \u001B[31m   \u001B[0m and might be removed in the future.\n",
      "  \u001B[31m   \u001B[0m \n",
      "  \u001B[31m   \u001B[0m   conf_dict = read_configuration(setup_cfg)\n",
      "  \u001B[31m   \u001B[0m usage: setup.py [global_opts] cmd1 [cmd1_opts] [cmd2 [cmd2_opts] ...]\n",
      "  \u001B[31m   \u001B[0m    or: setup.py --help [cmd1 cmd2 ...]\n",
      "  \u001B[31m   \u001B[0m    or: setup.py --help-commands\n",
      "  \u001B[31m   \u001B[0m    or: setup.py cmd --help\n",
      "  \u001B[31m   \u001B[0m \n",
      "  \u001B[31m   \u001B[0m error: invalid command 'bdist_wheel'\n",
      "  \u001B[31m   \u001B[0m \u001B[31m[end of output]\u001B[0m\n",
      "  \n",
      "  \u001B[1;35mnote\u001B[0m: This error originates from a subprocess, and is likely not a problem with pip.\n",
      "\u001B[31m  ERROR: Failed building wheel for sp-gies\u001B[0m\u001B[31m\n",
      "\u001B[0m\u001B[?25h  Running setup.py clean for sp-gies\n",
      "Failed to build sp-gies\n",
      "Installing collected packages: sp-gies\n",
      "  Running setup.py install for sp-gies ... \u001B[?25ldone\n",
      "\u001B[33m  DEPRECATION: sp-gies was installed using the legacy 'setup.py install' method, because a wheel could not be built for it. pip 23.1 will enforce this behaviour change. A possible replacement is to fix the wheel build issue reported above. Discussion can be found at https://github.com/pypa/pip/issues/8368\u001B[0m\u001B[33m\n",
      "\u001B[0m\u001B[?25hSuccessfully installed sp-gies-1.0\n"
     ]
    }
   ],
   "source": [
    "!pip install -U git+https://github.com/shahashka/SP-GIES --no-cache-dir"
   ]
  },
  {
   "cell_type": "code",
   "execution_count": 1,
   "metadata": {},
   "outputs": [
    {
     "ename": "ModuleNotFoundError",
     "evalue": "No module named 'networkx'",
     "output_type": "error",
     "traceback": [
      "\u001B[0;31m---------------------------------------------------------------------------\u001B[0m",
      "\u001B[0;31mModuleNotFoundError\u001B[0m                       Traceback (most recent call last)",
      "\u001B[0;32m/var/folders/hr/9_dgjtbx6ll7bkdgtm_4dkl00000gn/T/ipykernel_77150/1710611819.py\u001B[0m in \u001B[0;36m<module>\u001B[0;34m\u001B[0m\n\u001B[0;32m----> 1\u001B[0;31m \u001B[0;32mfrom\u001B[0m \u001B[0msp_gies\u001B[0m \u001B[0;32mimport\u001B[0m \u001B[0mutils\u001B[0m\u001B[0;34m\u001B[0m\u001B[0;34m\u001B[0m\u001B[0m\n\u001B[0m\u001B[1;32m      2\u001B[0m \u001B[0;32mfrom\u001B[0m \u001B[0msp_gies\u001B[0m \u001B[0;32mimport\u001B[0m \u001B[0msp_gies\u001B[0m \u001B[0;32mas\u001B[0m \u001B[0msp\u001B[0m\u001B[0;34m\u001B[0m\u001B[0;34m\u001B[0m\u001B[0m\n\u001B[1;32m      3\u001B[0m \u001B[0;32mimport\u001B[0m \u001B[0msp_gies\u001B[0m\u001B[0;34m\u001B[0m\u001B[0;34m\u001B[0m\u001B[0m\n\u001B[1;32m      4\u001B[0m \u001B[0msp_gies\u001B[0m\u001B[0;34m.\u001B[0m\u001B[0m__version__\u001B[0m\u001B[0;34m\u001B[0m\u001B[0;34m\u001B[0m\u001B[0m\n",
      "\u001B[0;32m~/Desktop/SP-GIES/env/lib/python3.7/site-packages/sp_gies/utils.py\u001B[0m in \u001B[0;36m<module>\u001B[0;34m\u001B[0m\n\u001B[0;32m----> 1\u001B[0;31m \u001B[0;32mimport\u001B[0m \u001B[0mnetworkx\u001B[0m \u001B[0;32mas\u001B[0m \u001B[0mnx\u001B[0m\u001B[0;34m\u001B[0m\u001B[0;34m\u001B[0m\u001B[0m\n\u001B[0m\u001B[1;32m      2\u001B[0m \u001B[0;32mimport\u001B[0m \u001B[0mnumpy\u001B[0m \u001B[0;32mas\u001B[0m \u001B[0mnp\u001B[0m\u001B[0;34m\u001B[0m\u001B[0;34m\u001B[0m\u001B[0m\n\u001B[1;32m      3\u001B[0m \u001B[0;32mimport\u001B[0m \u001B[0mitertools\u001B[0m\u001B[0;34m\u001B[0m\u001B[0;34m\u001B[0m\u001B[0m\n\u001B[1;32m      4\u001B[0m \u001B[0;32mimport\u001B[0m \u001B[0mcdt\u001B[0m\u001B[0;34m\u001B[0m\u001B[0;34m\u001B[0m\u001B[0m\n\u001B[1;32m      5\u001B[0m \u001B[0;32mfrom\u001B[0m \u001B[0msklearn\u001B[0m\u001B[0;34m.\u001B[0m\u001B[0mmetrics\u001B[0m \u001B[0;32mimport\u001B[0m \u001B[0mauc\u001B[0m\u001B[0;34m\u001B[0m\u001B[0;34m\u001B[0m\u001B[0m\n",
      "\u001B[0;31mModuleNotFoundError\u001B[0m: No module named 'networkx'"
     ]
    }
   ],
   "source": [
    "from sp_gies import utils\n",
    "from sp_gies import sp_gies as sp\n",
    "import sp_gies\n",
    "sp_gies.__version__"
   ]
  },
  {
   "cell_type": "markdown",
   "metadata": {},
   "source": [
    "## Generate a random graph and random data.\n",
    "Data is sampled from a linear Gaussian model (child nodes are weighted sums of parent nodes). Options for random graphs are scale_free, erdos_renyi, and small_world. Choose the number of nodes in the graphs (n), number of observational samples (nsamples) and number of interventional samples per node (iv_samples). p, k are parameters for the random graphs.\n",
    "\n",
    "Arcs is a list of edge pairs e.g. [(\"G1\",\"G2\"), (\"G2\",\"G4\")]"
   ]
  },
  {
   "cell_type": "code",
   "execution_count": 3,
   "metadata": {},
   "outputs": [],
   "source": [
    "(arcs,nodes,bias,var), data = utils.get_random_graph_data(\"scale_free\", n=10, nsamples=10000, iv_samples=10, p=0.5, k=2)"
   ]
  },
  {
   "cell_type": "markdown",
   "metadata": {},
   "source": [
    "The dataset should have column names corresponding to the random variables names. Additionally a 'target' column specifies which intervention index was performed to obtain the sample. The target column indexes from 1 (for compatability with R). For example in the dataframe below, target=1 indicates that 'G1' was intervened to obtain the corresponding interventional sample. For observational samples the target value should be 0. \n"
   ]
  },
  {
   "cell_type": "code",
   "execution_count": 4,
   "metadata": {},
   "outputs": [
    {
     "name": "stdout",
     "output_type": "stream",
     "text": [
      "<bound method NDFrame.head of            G1        G2        G3        G4        G5        G6         G7  \\\n",
      "0   14.464795  4.278928 -0.770665  1.658923  1.135153 -0.494724   6.868821   \n",
      "1   18.019292  6.487468  0.569230  3.519605  5.462579 -0.430048  13.539153   \n",
      "2    9.352399  3.845686 -1.395816  1.980282  0.773106 -0.608937   5.710223   \n",
      "3   10.553419  4.965106 -0.565652  2.184134  1.510322 -0.705889   7.432769   \n",
      "4   18.561109  6.504644  0.223877  3.764172  3.001941 -0.478044  10.017195   \n",
      "..        ...       ...       ...       ...       ...       ...        ...   \n",
      "5   23.975807  7.728077  2.381381  3.797984  8.787509 -0.180321  16.719876   \n",
      "6   21.516556  7.976141  0.292340  5.111815  6.127549 -0.619453  14.327381   \n",
      "7   15.239631  4.946446  0.520864  2.631599  4.472130 -0.854605   9.754562   \n",
      "8   15.107945  5.971126 -0.431315  3.494727  3.279704 -0.839910   9.501493   \n",
      "9    3.661724  3.935389 -2.421017  1.799909  0.328601 -0.989725   4.502166   \n",
      "\n",
      "           G8        G9       G10  target  \n",
      "0    7.688483  1.826623  1.386822     0.0  \n",
      "1    8.169853  1.866564  1.224864     0.0  \n",
      "2    6.728011  1.478299  0.842210     0.0  \n",
      "3    6.351234  1.631758  0.777828     0.0  \n",
      "4    7.359311  1.891088  0.243406     0.0  \n",
      "..        ...       ...       ...     ...  \n",
      "5   10.483311  2.426956  0.000000    10.0  \n",
      "6    9.381007  2.982032  0.000000    10.0  \n",
      "7    7.262262  1.461117  0.000000    10.0  \n",
      "8    6.735660  2.158705  0.000000    10.0  \n",
      "9    4.130067  1.772042  0.000000    10.0  \n",
      "\n",
      "[10100 rows x 11 columns]>\n"
     ]
    }
   ],
   "source": [
    "print(data.head)"
   ]
  },
  {
   "cell_type": "markdown",
   "metadata": {},
   "source": [
    "# Run the SP-GIES algorithm on the dataset.\n",
    "Runs the PC algorithm if pc=True and then the GIES algorithm on the output CPDAG.\n",
    "Optionally provide an input skeleton, which should be a numpy array with number rows/columns corresponding to the number of nodes. The output adjacency matrix is saved in the output dir as sp_gies-adj_mat.csv.\n",
    "\n",
    "For a 10 node graph this should take less than 1 second"
   ]
  },
  {
   "cell_type": "code",
   "execution_count": 5,
   "metadata": {},
   "outputs": [
    {
     "ename": "TypeError",
     "evalue": "'bool' object is not callable",
     "output_type": "error",
     "traceback": [
      "\u001B[0;31m---------------------------------------------------------------------------\u001B[0m",
      "\u001B[0;31mTypeError\u001B[0m                                 Traceback (most recent call last)",
      "Cell \u001B[0;32mIn[5], line 1\u001B[0m\n\u001B[0;32m----> 1\u001B[0m adj_mat \u001B[38;5;241m=\u001B[39m \u001B[43msp\u001B[49m\u001B[38;5;241;43m.\u001B[39;49m\u001B[43msp_gies\u001B[49m\u001B[43m(\u001B[49m\u001B[43mdata\u001B[49m\u001B[43m,\u001B[49m\u001B[43m \u001B[49m\u001B[43moutdir\u001B[49m\u001B[38;5;241;43m=\u001B[39;49m\u001B[38;5;124;43m\"\u001B[39;49m\u001B[38;5;124;43m./\u001B[39;49m\u001B[38;5;124;43m\"\u001B[39;49m\u001B[43m,\u001B[49m\u001B[43m \u001B[49m\u001B[43mskel\u001B[49m\u001B[38;5;241;43m=\u001B[39;49m\u001B[38;5;28;43;01mNone\u001B[39;49;00m\u001B[43m,\u001B[49m\u001B[43m \u001B[49m\u001B[43mpc\u001B[49m\u001B[38;5;241;43m=\u001B[39;49m\u001B[38;5;28;43;01mTrue\u001B[39;49;00m\u001B[43m)\u001B[49m\n",
      "File \u001B[0;32m/Applications/anaconda3/envs/sp_gies_noR/lib/python3.8/site-packages/sp_gies/sp_gies.py:116\u001B[0m, in \u001B[0;36msp_gies\u001B[0;34m(data, outdir, skel, pc)\u001B[0m\n\u001B[1;32m    114\u001B[0m         skel \u001B[38;5;241m=\u001B[39m cu_pc(obs_data, outdir)\n\u001B[1;32m    115\u001B[0m     \u001B[38;5;28;01melse\u001B[39;00m:\n\u001B[0;32m--> 116\u001B[0m         skel \u001B[38;5;241m=\u001B[39m \u001B[43mpc\u001B[49m\u001B[43m(\u001B[49m\u001B[43mobs_data\u001B[49m\u001B[43m,\u001B[49m\u001B[43m \u001B[49m\u001B[43moutdir\u001B[49m\u001B[43m)\u001B[49m\n\u001B[1;32m    117\u001B[0m \u001B[38;5;28;01melse\u001B[39;00m:\n\u001B[1;32m    118\u001B[0m     skel \u001B[38;5;241m=\u001B[39m np\u001B[38;5;241m.\u001B[39mones((data\u001B[38;5;241m.\u001B[39mshape[\u001B[38;5;241m1\u001B[39m], data\u001B[38;5;241m.\u001B[39mshape[\u001B[38;5;241m1\u001B[39m]))\n",
      "\u001B[0;31mTypeError\u001B[0m: 'bool' object is not callable"
     ]
    }
   ],
   "source": [
    "adj_mat = sp.sp_gies(data, outdir=\"./\", skel=None, pc=True)"
   ]
  },
  {
   "cell_type": "markdown",
   "metadata": {},
   "source": [
    "# Evaluate the estimated graph.\n",
    "Convert to networkx Digraph and run evaluation metrics. \n",
    "\n",
    "SHD is the L1 error between the graphs.\n",
    "\n",
    "SID is the number of wrong interventional distributions. This method scales quadratically with the number of nodes. For large graphs it can take a while, so there is an option to turn off this evaluation with get_sid=False.\n",
    "\n",
    "AUC is the error under the precision recall curve"
   ]
  },
  {
   "cell_type": "code",
   "execution_count": 10,
   "metadata": {},
   "outputs": [
    {
     "ename": "NameError",
     "evalue": "name 'adj_mat' is not defined",
     "output_type": "error",
     "traceback": [
      "\u001B[0;31m---------------------------------------------------------------------------\u001B[0m",
      "\u001B[0;31mNameError\u001B[0m                                 Traceback (most recent call last)",
      "Cell \u001B[0;32mIn[10], line 2\u001B[0m\n\u001B[1;32m      1\u001B[0m G_true \u001B[38;5;241m=\u001B[39m utils\u001B[38;5;241m.\u001B[39medge_to_dag(arcs)\n\u001B[0;32m----> 2\u001B[0m G_sp_gies \u001B[38;5;241m=\u001B[39m utils\u001B[38;5;241m.\u001B[39madj_to_dag(\u001B[43madj_mat\u001B[49m, nodes)\n\u001B[1;32m      3\u001B[0m \u001B[38;5;28mprint\u001B[39m(utils\u001B[38;5;241m.\u001B[39mget_scores([\u001B[38;5;124m\"\u001B[39m\u001B[38;5;124mSP-GIES\u001B[39m\u001B[38;5;124m\"\u001B[39m], [G_sp_gies], G_true, get_sid\u001B[38;5;241m=\u001B[39m\u001B[38;5;28;01mTrue\u001B[39;00m))\n",
      "\u001B[0;31mNameError\u001B[0m: name 'adj_mat' is not defined"
     ]
    }
   ],
   "source": [
    "G_true = utils.edge_to_dag(arcs)\n",
    "G_sp_gies = utils.adj_to_dag(adj_mat, nodes)\n",
    "print(utils.get_scores([\"SP-GIES\"], [G_sp_gies], G_true, get_sid=True))"
   ]
  },
  {
   "cell_type": "code",
   "execution_count": null,
   "metadata": {},
   "outputs": [],
   "source": []
  }
 ],
 "metadata": {
  "kernelspec": {
   "display_name": "env",
   "language": "python",
   "name": "env"
  },
  "language_info": {
   "codemirror_mode": {
    "name": "ipython",
    "version": 3
   },
   "file_extension": ".py",
   "mimetype": "text/x-python",
   "name": "python",
   "nbconvert_exporter": "python",
   "pygments_lexer": "ipython3",
   "version": "3.7.6"
  }
 },
 "nbformat": 4,
 "nbformat_minor": 4
}