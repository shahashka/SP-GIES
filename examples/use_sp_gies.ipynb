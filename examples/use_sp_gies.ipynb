{
 "cells": [
  {
   "cell_type": "code",
   "execution_count": 4,
   "metadata": {},
   "outputs": [
    {
     "name": "stdout",
     "output_type": "stream",
     "text": [
      "Collecting git+https://github.com/shahashka/SP-GIES\r\n",
      "  Cloning https://github.com/shahashka/SP-GIES to /private/var/folders/hr/9_dgjtbx6ll7bkdgtm_4dkl00000gn/T/pip-req-build-5u2u11ne\r\n",
      "  Running command git clone --filter=blob:none --quiet https://github.com/shahashka/SP-GIES /private/var/folders/hr/9_dgjtbx6ll7bkdgtm_4dkl00000gn/T/pip-req-build-5u2u11ne\r\n",
      "  Resolved https://github.com/shahashka/SP-GIES to commit 1f66ec3ef5e8652cca9eed4613e9b306794de5f7\r\n",
      "  Running command git submodule update --init --recursive -q\r\n",
      "  Preparing metadata (setup.py) ... \u001b[?25l-\b \berror\r\n",
      "  \u001b[1;31merror\u001b[0m: \u001b[1msubprocess-exited-with-error\u001b[0m\r\n",
      "  \r\n",
      "  \u001b[31m×\u001b[0m \u001b[32mpython setup.py egg_info\u001b[0m did not run successfully.\r\n",
      "  \u001b[31m│\u001b[0m exit code: \u001b[1;36m1\u001b[0m\r\n",
      "  \u001b[31m╰─>\u001b[0m \u001b[31m[36 lines of output]\u001b[0m\r\n",
      "  \u001b[31m   \u001b[0m /private/var/folders/hr/9_dgjtbx6ll7bkdgtm_4dkl00000gn/T/pip-req-build-5u2u11ne/setup.py:9: SetuptoolsDeprecationWarning: As setuptools moves its configuration towards `pyproject.toml`,\r\n",
      "  \u001b[31m   \u001b[0m `setuptools.config.read_configuration` became deprecated.\r\n",
      "  \u001b[31m   \u001b[0m \r\n",
      "  \u001b[31m   \u001b[0m For the time being, you can use the `setuptools.config.setupcfg` module\r\n",
      "  \u001b[31m   \u001b[0m to access a backward compatible API, but this module is provisional\r\n",
      "  \u001b[31m   \u001b[0m and might be removed in the future.\r\n",
      "  \u001b[31m   \u001b[0m \r\n",
      "  \u001b[31m   \u001b[0m   conf_dict = read_configuration(setup_cfg)\r\n",
      "  \u001b[31m   \u001b[0m Traceback (most recent call last):\r\n",
      "  \u001b[31m   \u001b[0m   File \"<string>\", line 2, in <module>\r\n",
      "  \u001b[31m   \u001b[0m   File \"<pip-setuptools-caller>\", line 34, in <module>\r\n",
      "  \u001b[31m   \u001b[0m   File \"/private/var/folders/hr/9_dgjtbx6ll7bkdgtm_4dkl00000gn/T/pip-req-build-5u2u11ne/setup.py\", line 9, in <module>\r\n",
      "  \u001b[31m   \u001b[0m     conf_dict = read_configuration(setup_cfg)\r\n",
      "  \u001b[31m   \u001b[0m   File \"/Applications/anaconda3/envs/sp_gies/lib/python3.9/site-packages/setuptools/config/__init__.py\", line 29, in _wrapper\r\n",
      "  \u001b[31m   \u001b[0m     return fn(*args, **kwargs)\r\n",
      "  \u001b[31m   \u001b[0m   File \"/Applications/anaconda3/envs/sp_gies/lib/python3.9/site-packages/setuptools/config/setupcfg.py\", line 64, in read_configuration\r\n",
      "  \u001b[31m   \u001b[0m     handlers = _apply(dist, filepath, filenames, ignore_option_errors)\r\n",
      "  \u001b[31m   \u001b[0m   File \"/Applications/anaconda3/envs/sp_gies/lib/python3.9/site-packages/setuptools/config/setupcfg.py\", line 96, in _apply\r\n",
      "  \u001b[31m   \u001b[0m     handlers = parse_configuration(\r\n",
      "  \u001b[31m   \u001b[0m   File \"/Applications/anaconda3/envs/sp_gies/lib/python3.9/site-packages/setuptools/config/setupcfg.py\", line 174, in parse_configuration\r\n",
      "  \u001b[31m   \u001b[0m     meta.parse()\r\n",
      "  \u001b[31m   \u001b[0m   File \"/Applications/anaconda3/envs/sp_gies/lib/python3.9/site-packages/setuptools/config/setupcfg.py\", line 496, in parse\r\n",
      "  \u001b[31m   \u001b[0m     section_parser_method(section_options)\r\n",
      "  \u001b[31m   \u001b[0m   File \"/Applications/anaconda3/envs/sp_gies/lib/python3.9/site-packages/setuptools/config/setupcfg.py\", line 470, in parse_section\r\n",
      "  \u001b[31m   \u001b[0m     self[name] = value\r\n",
      "  \u001b[31m   \u001b[0m   File \"/Applications/anaconda3/envs/sp_gies/lib/python3.9/site-packages/setuptools/config/setupcfg.py\", line 278, in __setitem__\r\n",
      "  \u001b[31m   \u001b[0m     value = parser(value)\r\n",
      "  \u001b[31m   \u001b[0m   File \"/Applications/anaconda3/envs/sp_gies/lib/python3.9/site-packages/setuptools/config/setupcfg.py\", line 602, in _parse_version\r\n",
      "  \u001b[31m   \u001b[0m     return expand.version(self._parse_attr(value, self.package_dir, self.root_dir))\r\n",
      "  \u001b[31m   \u001b[0m   File \"/Applications/anaconda3/envs/sp_gies/lib/python3.9/site-packages/setuptools/config/setupcfg.py\", line 412, in _parse_attr\r\n",
      "  \u001b[31m   \u001b[0m     return expand.read_attr(attr_desc, package_dir, root_dir)\r\n",
      "  \u001b[31m   \u001b[0m   File \"/Applications/anaconda3/envs/sp_gies/lib/python3.9/site-packages/setuptools/config/expand.py\", line 188, in read_attr\r\n",
      "  \u001b[31m   \u001b[0m     spec = _find_spec(module_name, path)\r\n",
      "  \u001b[31m   \u001b[0m   File \"/Applications/anaconda3/envs/sp_gies/lib/python3.9/site-packages/setuptools/config/expand.py\", line 203, in _find_spec\r\n",
      "  \u001b[31m   \u001b[0m     raise ModuleNotFoundError(module_name)\r\n",
      "  \u001b[31m   \u001b[0m ModuleNotFoundError: sp_gies\r\n",
      "  \u001b[31m   \u001b[0m \u001b[31m[end of output]\u001b[0m\r\n",
      "  \r\n",
      "  \u001b[1;35mnote\u001b[0m: This error originates from a subprocess, and is likely not a problem with pip.\r\n",
      "\u001b[1;31merror\u001b[0m: \u001b[1mmetadata-generation-failed\u001b[0m\r\n",
      "\r\n",
      "\u001b[31m×\u001b[0m Encountered error while generating package metadata.\r\n",
      "\u001b[31m╰─>\u001b[0m See above for output.\r\n",
      "\r\n",
      "\u001b[1;35mnote\u001b[0m: This is an issue with the package mentioned above, not pip.\r\n",
      "\u001b[1;36mhint\u001b[0m: See above for details.\r\n",
      "\u001b[?25h"
     ]
    }
   ],
   "source": [
    "!pip install git+https://github.com/shahashka/SP-GIES"
   ]
  },
  {
   "cell_type": "code",
   "execution_count": null,
   "metadata": {},
   "outputs": [],
   "source": []
  }
 ],
 "metadata": {
  "kernelspec": {
   "display_name": "sp_gies",
   "language": "python",
   "name": "sp_gies"
  },
  "language_info": {
   "codemirror_mode": {
    "name": "ipython",
    "version": 3
   },
   "file_extension": ".py",
   "mimetype": "text/x-python",
   "name": "python",
   "nbconvert_exporter": "python",
   "pygments_lexer": "ipython3",
   "version": "3.9.16"
  }
 },
 "nbformat": 4,
 "nbformat_minor": 2
}
